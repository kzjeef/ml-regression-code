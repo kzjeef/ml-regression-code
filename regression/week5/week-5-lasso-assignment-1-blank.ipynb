{
 "cells": [
  {
   "cell_type": "markdown",
   "metadata": {},
   "source": [
    "# Regression Week 5: Feature Selection and LASSO (Interpretation)"
   ]
  },
  {
   "cell_type": "markdown",
   "metadata": {},
   "source": [
    "In this notebook, you will use LASSO to select features, building on a pre-implemented solver for LASSO (using GraphLab Create, though you can use other solvers). You will:\n",
    "* Run LASSO with different L1 penalties.\n",
    "* Choose best L1 penalty using a validation set.\n",
    "* Choose best L1 penalty using a validation set, with additional constraint on the size of subset.\n",
    "\n",
    "In the second notebook, you will implement your own LASSO solver, using coordinate descent. "
   ]
  },
  {
   "cell_type": "markdown",
   "metadata": {},
   "source": [
    "# Fire up graphlab create"
   ]
  },
  {
   "cell_type": "code",
   "execution_count": 1,
   "metadata": {
    "collapsed": false
   },
   "outputs": [
    {
     "name": "stderr",
     "output_type": "stream",
     "text": [
      "A newer version of GraphLab Create (v1.8) is available! Your current version is v1.7.1.\n",
      "\n",
      "You can use pip to upgrade the graphlab-create package. For more information see https://dato.com/products/create/upgrade.\n"
     ]
    }
   ],
   "source": [
    "import graphlab"
   ]
  },
  {
   "cell_type": "markdown",
   "metadata": {},
   "source": [
    "# Load in house sales data\n",
    "\n",
    "Dataset is from house sales in King County, the region where the city of Seattle, WA is located."
   ]
  },
  {
   "cell_type": "code",
   "execution_count": 35,
   "metadata": {
    "collapsed": false,
    "scrolled": true
   },
   "outputs": [],
   "source": [
    "sales = graphlab.SFrame('kc_house_data.gl/')"
   ]
  },
  {
   "cell_type": "markdown",
   "metadata": {},
   "source": [
    "# Create new features"
   ]
  },
  {
   "cell_type": "markdown",
   "metadata": {},
   "source": [
    "As in Week 2, we consider features that are some transformations of inputs."
   ]
  },
  {
   "cell_type": "code",
   "execution_count": 36,
   "metadata": {
    "collapsed": true
   },
   "outputs": [],
   "source": [
    "from math import log, sqrt\n",
    "sales['sqft_living_sqrt'] = sales['sqft_living'].apply(sqrt)\n",
    "sales['sqft_lot_sqrt'] = sales['sqft_lot'].apply(sqrt)\n",
    "sales['bedrooms_square'] = sales['bedrooms']*sales['bedrooms']\n",
    "\n",
    "# In the dataset, 'floors' was defined with type string, \n",
    "# so we'll convert them to float, before creating a new feature.\n",
    "sales['floors'] = sales['floors'].astype(float) \n",
    "sales['floors_square'] = sales['floors']*sales['floors']"
   ]
  },
  {
   "cell_type": "markdown",
   "metadata": {},
   "source": [
    "* Squaring bedrooms will increase the separation between not many bedrooms (e.g. 1) and lots of bedrooms (e.g. 4) since 1^2 = 1 but 4^2 = 16. Consequently this variable will mostly affect houses with many bedrooms.\n",
    "* On the other hand, taking square root of sqft_living will decrease the separation between big house and small house. The owner may not be exactly twice as happy for getting a house that is twice as big."
   ]
  },
  {
   "cell_type": "markdown",
   "metadata": {},
   "source": [
    "# Learn regression weights with L1 penalty"
   ]
  },
  {
   "cell_type": "markdown",
   "metadata": {},
   "source": [
    "Let us fit a model with all the features available, plus the features we just created above."
   ]
  },
  {
   "cell_type": "code",
   "execution_count": 37,
   "metadata": {
    "collapsed": false
   },
   "outputs": [],
   "source": [
    "all_features = ['bedrooms', 'bedrooms_square',\n",
    "            'bathrooms',\n",
    "            'sqft_living', 'sqft_living_sqrt',\n",
    "            'sqft_lot', 'sqft_lot_sqrt',\n",
    "            'floors', 'floors_square',\n",
    "            'waterfront', 'view', 'condition', 'grade',\n",
    "            'sqft_above',\n",
    "            'sqft_basement',\n",
    "            'yr_built', 'yr_renovated']"
   ]
  },
  {
   "cell_type": "markdown",
   "metadata": {},
   "source": [
    "Applying L1 penalty requires adding an extra parameter (`l1_penalty`) to the linear regression call in GraphLab Create. (Other tools may have separate implementations of LASSO.)  Note that it's important to set `l2_penalty=0` to ensure we don't introduce an additional L2 penalty."
   ]
  },
  {
   "cell_type": "code",
   "execution_count": 40,
   "metadata": {
    "collapsed": false
   },
   "outputs": [
    {
     "name": "stdout",
     "output_type": "stream",
     "text": [
      "PROGRESS: Linear regression:\n",
      "PROGRESS: --------------------------------------------------------\n",
      "PROGRESS: Number of examples          : 21613\n",
      "PROGRESS: Number of features          : 17\n",
      "PROGRESS: Number of unpacked features : 17\n",
      "PROGRESS: Number of coefficients    : 18\n",
      "PROGRESS: Starting Accelerated Gradient (FISTA)\n",
      "PROGRESS: --------------------------------------------------------\n",
      "PROGRESS: +-----------+----------+-----------+--------------+--------------------+---------------+\n",
      "PROGRESS: | Iteration | Passes   | Step size | Elapsed Time | Training-max_error | Training-rmse |\n",
      "PROGRESS: +-----------+----------+-----------+--------------+--------------------+---------------+\n",
      "PROGRESS: Tuning step size. First iteration could take longer than subsequent iterations.\n",
      "PROGRESS: | 1         | 2        | 0.000002  | 0.325609     | 6962915.603493     | 426631.749026 |\n",
      "PROGRESS: | 2         | 3        | 0.000002  | 0.352088     | 6843144.200219     | 392488.929838 |\n",
      "PROGRESS: | 3         | 4        | 0.000002  | 0.378337     | 6831900.032123     | 385340.166783 |\n",
      "PROGRESS: | 4         | 5        | 0.000002  | 0.404258     | 6847166.848958     | 384842.383767 |\n",
      "PROGRESS: | 5         | 6        | 0.000002  | 0.431889     | 6869667.895833     | 385998.458623 |\n",
      "PROGRESS: | 6         | 7        | 0.000002  | 0.463196     | 6847177.773672     | 380824.455891 |\n",
      "PROGRESS: +-----------+----------+-----------+--------------+--------------------+---------------+\n",
      "PROGRESS: TERMINATED: Iteration limit reached.\n",
      "PROGRESS: This model may not be optimal. To improve it, consider increasing `max_iterations`.\n"
     ]
    }
   ],
   "source": [
    "model_all = graphlab.linear_regression.create(sales, target='price', features=all_features,\n",
    "                                              validation_set=None, \n",
    "                                              l2_penalty=0., l1_penalty=1e10)"
   ]
  },
  {
   "cell_type": "markdown",
   "metadata": {},
   "source": [
    "Find what features had non-zero weight."
   ]
  },
  {
   "cell_type": "code",
   "execution_count": 41,
   "metadata": {
    "collapsed": false
   },
   "outputs": [
    {
     "name": "stdout",
     "output_type": "stream",
     "text": [
      "Canvas is updated and available in a tab in the default browser.\n"
     ]
    }
   ],
   "source": [
    "model_all['coefficients'].show()\n"
   ]
  },
  {
   "cell_type": "markdown",
   "metadata": {},
   "source": [
    "Note that a majority of the weights have been set to zero. So by setting an L1 penalty that's large enough, we are performing a subset selection. \n",
    "\n",
    "***QUIZ QUESTION***:\n",
    "According to this list of weights, which of the features have been chosen? "
   ]
  },
  {
   "cell_type": "code",
   "execution_count": 42,
   "metadata": {
    "collapsed": false
   },
   "outputs": [
    {
     "data": {
      "text/plain": [
       "['bathrooms', 'sqft_living', 'sqft_living_sqrt', 'grade', 'sqft_above']"
      ]
     },
     "execution_count": 42,
     "metadata": {},
     "output_type": "execute_result"
    }
   ],
   "source": [
    "['bathrooms' , 'sqft_living' , 'sqft_living_sqrt' , 'grade' , 'sqft_above']"
   ]
  },
  {
   "cell_type": "markdown",
   "metadata": {},
   "source": [
    "# Selecting an L1 penalty"
   ]
  },
  {
   "cell_type": "markdown",
   "metadata": {},
   "source": [
    "To find a good L1 penalty, we will explore multiple values using a validation set. Let us do three way split into train, validation, and test sets:\n",
    "* Split our sales data into 2 sets: training and test\n",
    "* Further split our training data into two sets: train, validation\n",
    "\n",
    "Be *very* careful that you use seed = 1 to ensure you get the same answer!"
   ]
  },
  {
   "cell_type": "code",
   "execution_count": 43,
   "metadata": {
    "collapsed": true
   },
   "outputs": [],
   "source": [
    "(training_and_validation, testing) = sales.random_split(.9,seed=1) # initial train/test split\n",
    "(training, validation) = training_and_validation.random_split(0.5, seed=1) # split training into train and validate"
   ]
  },
  {
   "cell_type": "markdown",
   "metadata": {},
   "source": [
    "Next, we write a loop that does the following:\n",
    "* For `l1_penalty` in [10^1, 10^1.5, 10^2, 10^2.5, ..., 10^7] (to get this in Python, type `np.logspace(1, 7, num=13)`.)\n",
    "    * Fit a regression model with a given `l1_penalty` on TRAIN data. Specify `l1_penalty=l1_penalty` and `l2_penalty=0.` in the parameter list.\n",
    "    * Compute the RSS on VALIDATION data (here you will want to use `.predict()`) for that `l1_penalty`\n",
    "* Report which `l1_penalty` produced the lowest RSS on validation data.\n",
    "\n",
    "When you call `linear_regression.create()` make sure you set `validation_set = None`.\n",
    "\n",
    "Note: you can turn off the print out of `linear_regression.create()` with `verbose = False`"
   ]
  },
  {
   "cell_type": "code",
   "execution_count": 53,
   "metadata": {
    "collapsed": false
   },
   "outputs": [
    {
     "name": "stdout",
     "output_type": "stream",
     "text": [
      "rss: 625766285142460 l1:10\n",
      "rss: 625766285362394 l1:31\n",
      "rss: 625766286057885 l1:100\n",
      "rss: 625766288257224 l1:316\n",
      "rss: 625766295212186 l1:1000\n",
      "rss: 625766317206080 l1:3162\n",
      "rss: 625766386760658 l1:10000\n",
      "rss: 625766606749278 l1:31622\n",
      "rss: 625767302791634 l1:100000\n",
      "rss: 625769507643885 l1:316227\n",
      "rss: 625776517727024 l1:1000000\n",
      "rss: 625799062845466 l1:3162277\n",
      "rss: 625883719085425 l1:10000000\n",
      "best_rss:625766285142460 best_l1:10\n"
     ]
    }
   ],
   "source": [
    "import numpy as np\n",
    "minsum_rss = 725776517727024;\n",
    "min_l1 = 0;\n",
    "\n",
    "for l1 in np.logspace(1, 7, num=13):\n",
    "    model = graphlab.linear_regression.create(training, target='price', features=all_features,\n",
    "                                                  validation_set=None, verbose = False,\n",
    "                                                  l2_penalty=0., l1_penalty=l1)\n",
    "    expect = model.predict(validation)\n",
    "    rss = ((validation['price'] - expect)**2).sum();\n",
    "    if minsum_rss > rss:\n",
    "        minsum_rss = rss\n",
    "        min_l1 = l1\n",
    "    print 'rss: %d l1:%d' % (rss, l1)\n",
    "print 'best_rss:%d best_l1:%d' % (minsum_rss, min_l1)"
   ]
  },
  {
   "cell_type": "code",
   "execution_count": 54,
   "metadata": {
    "collapsed": false
   },
   "outputs": [
    {
     "name": "stdout",
     "output_type": "stream",
     "text": [
      "1.56983602382e+14\n"
     ]
    }
   ],
   "source": [
    "best_model = graphlab.linear_regression.create(training, target='price', features=all_features,\n",
    "                                                  validation_set=None, verbose = False,\n",
    "                                                  l2_penalty=0., l1_penalty=min_l1)\n",
    "test_rss = ((best_model.predict(testing) - testing['price'])**2).sum()\n",
    "print test_rss\n"
   ]
  },
  {
   "cell_type": "markdown",
   "metadata": {},
   "source": [
    "*** QUIZ QUESTIONS ***\n",
    "1. What was the best value for the `l1_penalty`?\n",
    "2. What is the RSS on TEST data of the model with the best `l1_penalty`?"
   ]
  },
  {
   "cell_type": "code",
   "execution_count": 55,
   "metadata": {
    "collapsed": false
   },
   "outputs": [
    {
     "name": "stdout",
     "output_type": "stream",
     "text": [
      "Canvas is updated and available in a tab in the default browser.\n",
      "Canvas is updated and available in a tab in the default browser.\n"
     ]
    },
    {
     "data": {
      "text/plain": [
       "625766317206080"
      ]
     },
     "execution_count": 55,
     "metadata": {},
     "output_type": "execute_result"
    }
   ],
   "source": [
    "best_model.show()\n",
    "best_model['coefficients'].show()\n",
    "3162\n",
    "625766317206080\n"
   ]
  },
  {
   "cell_type": "markdown",
   "metadata": {},
   "source": [
    "***QUIZ QUESTION***\n",
    "Also, using this value of L1 penalty, how many nonzero weights do you have?"
   ]
  },
  {
   "cell_type": "code",
   "execution_count": 56,
   "metadata": {
    "collapsed": false
   },
   "outputs": [
    {
     "data": {
      "text/plain": [
       "17"
      ]
     },
     "execution_count": 56,
     "metadata": {},
     "output_type": "execute_result"
    }
   ],
   "source": [
    "17"
   ]
  },
  {
   "cell_type": "code",
   "execution_count": 57,
   "metadata": {
    "collapsed": false
   },
   "outputs": [
    {
     "data": {
      "text/plain": [
       "dtype: float\n",
       "Rows: 9635\n",
       "[117616.49514441582, 170861.959530783, 102966.88739580661, -87708.89137423068, 227236.3248703786, 52021.57093648764, 227726.11024307646, 84000.97905625403, 105463.02307220246, 126682.79562822921, -975324.2923875158, -265433.04888629727, -125905.52320499637, -28579.304429203272, 200905.02310891857, -168117.78457378736, -6279.5435020332225, -100722.36429470143, -74714.12473360985, -27292.93196084653, 42271.8522275798, -251854.34713585058, -77632.99493269937, -289523.9587590704, -263634.4768415695, 261753.73736475676, 261183.53607984388, 125390.66589669464, 109957.59786334552, 63955.93140795245, -9133.408897407935, 334697.9946869643, 266451.0185553832, 54538.11439161922, 159795.88455301576, -5167.660078765941, 165980.33113986044, 162379.78537396237, 133844.92063239182, 53882.926138148, 223190.69888733444, 71121.49296002428, 192621.3952937997, -124807.38364389795, 194074.34398646036, -39335.59307934757, -363815.67961562495, 172712.36038277362, 73307.33305831568, -27242.62508653244, -155320.63491232402, 381613.4121089681, 522966.1925918113, 266954.38491380704, -109045.98230494163, 94758.18995536759, -115200.16788389784, -157587.06746458868, 248189.08149626537, -159479.04583957698, -139569.61503617204, 75291.55860291014, 188403.8710666605, -61849.0564299993, -3082.962442636839, 153621.51968244067, -142157.0178904566, -326789.9548216902, 139982.60830467113, -201406.84065202542, -956005.3838855487, -82964.84204183496, 133085.1126464893, 245813.95830439217, 306623.4343935619, 267479.83362531575, -17661.39493207878, -225497.6308021024, 74703.51672195923, -200205.05384750268, 27781.261990363942, 227928.18017492082, 83739.48379966232, -72329.12276937347, -77151.0753743794, -49129.81401874096, 401748.89292981825, 38775.66144983156, 225741.26251326886, 13200.549026005203, -24719.41993563366, 181879.8440522952, -223498.18708404386, 136869.99506354233, 170175.31211005378, -312395.8212603207, 236347.9743645892, 44772.050991103926, 102715.72361860535, 41273.6410978355, ... ]"
      ]
     },
     "execution_count": 57,
     "metadata": {},
     "output_type": "execute_result"
    }
   ],
   "source": [
    "best_model.predict(validation) - validation['price']\n"
   ]
  },
  {
   "cell_type": "markdown",
   "metadata": {},
   "source": [
    "# Limit the number of nonzero weights\n",
    "\n",
    "What if we absolutely wanted to limit ourselves to, say, 7 features? This may be important if we want to derive \"a rule of thumb\" --- an interpretable model that has only a few features in them."
   ]
  },
  {
   "cell_type": "markdown",
   "metadata": {},
   "source": [
    "In this section, you are going to implement a simple, two phase procedure to achive this goal:\n",
    "1. Explore a large range of `l1_penalty` values to find a narrow region of `l1_penalty` values where models are likely to have the desired number of non-zero weights.\n",
    "2. Further explore the narrow region you found to find a good value for `l1_penalty` that achieves the desired sparsity.  Here, we will again use a validation set to choose the best value for `l1_penalty`."
   ]
  },
  {
   "cell_type": "code",
   "execution_count": 58,
   "metadata": {
    "collapsed": true
   },
   "outputs": [],
   "source": [
    "max_nonzeros = 7"
   ]
  },
  {
   "cell_type": "markdown",
   "metadata": {},
   "source": [
    "## Exploring the larger range of values to find a narrow range with the desired sparsity\n",
    "\n",
    "Let's define a wide range of possible `l1_penalty_values`:"
   ]
  },
  {
   "cell_type": "code",
   "execution_count": 59,
   "metadata": {
    "collapsed": false
   },
   "outputs": [],
   "source": [
    "l1_penalty_values = np.logspace(8, 10, num=20)"
   ]
  },
  {
   "cell_type": "markdown",
   "metadata": {},
   "source": [
    "Now, implement a loop that search through this space of possible `l1_penalty` values:\n",
    "\n",
    "* For `l1_penalty` in `np.logspace(8, 10, num=20)`:\n",
    "    * Fit a regression model with a given `l1_penalty` on TRAIN data. Specify `l1_penalty=l1_penalty` and `l2_penalty=0.` in the parameter list. When you call `linear_regression.create()` make sure you set `validation_set = None`\n",
    "    * Extract the weights of the model and count the number of nonzeros. Save the number of nonzeros to a list.\n",
    "        * *Hint: `model['coefficients']['value']` gives you an SArray with the parameters you learned.  If you call the method `.nnz()` on it, you will find the number of non-zero parameters!* "
   ]
  },
  {
   "cell_type": "code",
   "execution_count": 60,
   "metadata": {
    "collapsed": false
   },
   "outputs": [
    {
     "name": "stdout",
     "output_type": "stream",
     "text": [
      "rss: 627492659875075 l1:100000000 nnz:18\n",
      "rss: 628210516770747 l1:127427498 nnz:18\n",
      "rss: 629176689541061 l1:162377673 nnz:18\n",
      "rss: 630650082718674 l1:206913808 nnz:18\n",
      "rss: 632940229286984 l1:263665089 nnz:17\n",
      "rss: 636268140229529 l1:335981828 nnz:17\n",
      "rss: 641261198311187 l1:428133239 nnz:17\n",
      "rss: 648983455376337 l1:545559478 nnz:17\n",
      "rss: 660962217696068 l1:695192796 nnz:17\n",
      "rss: 677261520727858 l1:885866790 nnz:16\n",
      "rss: 701046815867076 l1:1128837891 nnz:15\n",
      "rss: 737850622829047 l1:1438449888 nnz:15\n",
      "rss: 796163109639833 l1:1832980710 nnz:13\n",
      "rss: 869018172893693 l1:2335721469 nnz:12\n",
      "rss: 966925692362085 l1:2976351441 nnz:10\n",
      "rss: 1081867592324112 l1:3792690190 nnz:6\n",
      "rss: 1244927360324958 l1:4832930238 nnz:5\n",
      "rss: 1384161490235110 l1:6158482110 nnz:3\n",
      "rss: 1230794720455647 l1:7847599703 nnz:1\n",
      "rss: 1229157160638600 l1:10000000000 nnz:1\n"
     ]
    }
   ],
   "source": [
    "import numpy as np\n",
    "\n",
    "max_nonzeros = 7\n",
    "result = [];\n",
    "\n",
    "searchlist = l1_penalty_values = np.logspace(8, 10, num=20)\n",
    "for l1 in searchlist:\n",
    "    model = graphlab.linear_regression.create(training, target='price', features=all_features,\n",
    "                                                  validation_set=None, verbose = False,\n",
    "                                                  l2_penalty=0., l1_penalty=l1)\n",
    "    expect = model.predict(validation)\n",
    "    rss = ((validation['price'] - expect)**2).sum();\n",
    "\n",
    "    nnz = model['coefficients']['value'].nnz();\n",
    "    if nnz == max_nonzeros:\n",
    "        result += l1\n",
    "        \n",
    "    print 'rss: %d l1:%d nnz:%d' % (rss, l1, nnz)"
   ]
  },
  {
   "cell_type": "markdown",
   "metadata": {},
   "source": [
    "Out of this large range, we want to find the two ends of our desired narrow range of `l1_penalty`.  At one end, we will have `l1_penalty` values that have too few non-zeros, and at the other end, we will have an `l1_penalty` that has too many non-zeros.  \n",
    "\n",
    "More formally, find:\n",
    "* The largest `l1_penalty` that has more non-zeros than `max_nonzero` (if we pick a penalty smaller than this value, we will definitely have too many non-zero weights)\n",
    "    * Store this value in the variable `l1_penalty_min` (we will use it later)\n",
    "* The smallest `l1_penalty` that has fewer non-zeros than `max_nonzero` (if we pick a penalty larger than this value, we will definitely have too few non-zero weights)\n",
    "    * Store this value in the variable `l1_penalty_max` (we will use it later)\n",
    "\n",
    "\n",
    "*Hint: there are many ways to do this, e.g.:*\n",
    "* Programmatically within the loop above\n",
    "* Creating a list with the number of non-zeros for each value of `l1_penalty` and inspecting it to find the appropriate boundaries."
   ]
  },
  {
   "cell_type": "code",
   "execution_count": 62,
   "metadata": {
    "collapsed": true
   },
   "outputs": [],
   "source": [
    "l1_penalty_min = 2976351441  \n",
    "l1_penalty_max = 3792690190 \n",
    "\n",
    "# answer : l1_penalty_min = 2796000000\n",
    "#           l1 max  =   3793000000"
   ]
  },
  {
   "cell_type": "markdown",
   "metadata": {},
   "source": [
    "***QUIZ QUESTIONS***\n",
    "\n",
    "What values did you find for `l1_penalty_min` and`l1_penalty_max`? "
   ]
  },
  {
   "cell_type": "markdown",
   "metadata": {},
   "source": [
    "## Exploring the narrow range of values to find the solution with the right number of non-zeros that has lowest RSS on the validation set \n",
    "\n",
    "We will now explore the narrow region of `l1_penalty` values we found:"
   ]
  },
  {
   "cell_type": "code",
   "execution_count": 63,
   "metadata": {
    "collapsed": true
   },
   "outputs": [],
   "source": [
    "l1_penalty_values = np.linspace(l1_penalty_min,l1_penalty_max,20)"
   ]
  },
  {
   "cell_type": "markdown",
   "metadata": {},
   "source": [
    "* For `l1_penalty` in `np.linspace(l1_penalty_min,l1_penalty_max,20)`:\n",
    "    * Fit a regression model with a given `l1_penalty` on TRAIN data. Specify `l1_penalty=l1_penalty` and `l2_penalty=0.` in the parameter list. When you call `linear_regression.create()` make sure you set `validation_set = None`\n",
    "    * Measure the RSS of the learned model on the VALIDATION set\n",
    "\n",
    "Find the model that the lowest RSS on the VALIDATION set and has sparsity *equal* to `max_nonzero`."
   ]
  },
  {
   "cell_type": "code",
   "execution_count": 74,
   "metadata": {
    "collapsed": false
   },
   "outputs": [
    {
     "name": "stdout",
     "output_type": "stream",
     "text": [
      "rss: 1081867592324112 l1:3792690190 nnz:6\n",
      "rss: 1077632775581415 l1:3749724992 nnz:6\n",
      "rss: 1073504549585599 l1:3706759795 nnz:6\n",
      "rss: 1069464335425585 l1:3663794598 nnz:6\n",
      "rss: 1065707689498230 l1:3620829400 nnz:6\n",
      "rss: 1060799531763286 l1:3577864203 nnz:7\n",
      "rss: 1055992735342999 l1:3534899006 nnz:7\n",
      "rss: 1051147625612862 l1:3491933808 nnz:7\n",
      "rss: 1046937488751711 l1:3448968611 nnz:7\n",
      "rss: 1043237237871701 l1:3406003414 nnz:8\n",
      "rss: 1038554735941040 l1:3363038216 nnz:8\n",
      "rss: 1034616909232827 l1:3320073019 nnz:8\n",
      "rss: 1028247992205977 l1:3277107822 nnz:10\n",
      "rss: 1018298780553819 l1:3234142624 nnz:10\n",
      "rss: 1008477167020094 l1:3191177427 nnz:10\n",
      "rss: 998783211265890 l1:3148212230 nnz:10\n",
      "rss: 989328342459473 l1:3105247032 nnz:10\n",
      "rss: 981188367942453 l1:3062281835 nnz:10\n",
      "rss: 974019450084554 l1:3019316638 nnz:10\n",
      "rss: 966925692362085 l1:2976351441 nnz:10\n",
      "[(1060799531763286.9, 3577864203.4210525), (1055992735342999.4, 3534899006.1052632), (1051147625612862.5, 3491933808.7894735), (1046937488751711.5, 3448968611.4736843)]\n"
     ]
    }
   ],
   "source": [
    "result = []\n",
    "for l1 in l1_penalty_values:\n",
    "    model = graphlab.linear_regression.create(training, target='price', features=all_features,\n",
    "                                                  validation_set=None, verbose = False,\n",
    "                                                  l2_penalty=0., l1_penalty=l1)\n",
    "    expect = model.predict(validation)\n",
    "    rss = ((validation['price'] - expect)**2).sum();\n",
    "\n",
    "    nnz = model['coefficients']['value'].nnz();\n",
    "    if nnz == 7:\n",
    "        result.append((rss, l1))\n",
    "        \n",
    "    print 'rss: %d l1:%d nnz:%d' % (rss, l1, nnz)\n",
    "    \n",
    "print result"
   ]
  },
  {
   "cell_type": "markdown",
   "metadata": {},
   "source": [
    "***QUIZ QUESTIONS***\n",
    "1. What value of `l1_penalty` in our narrow range has the lowest RSS on the VALIDATION set and has sparsity *equal* to `max_nonzeros`?\n",
    "2. What features in this model have non-zero coefficients?"
   ]
  },
  {
   "cell_type": "code",
   "execution_count": 69,
   "metadata": {
    "collapsed": false
   },
   "outputs": [
    {
     "name": "stdout",
     "output_type": "stream",
     "text": [
      "+------------------+-------+---------------+\n",
      "|       name       | index |     value     |\n",
      "+------------------+-------+---------------+\n",
      "|   (intercept)    |  None | 222253.192544 |\n",
      "|     bedrooms     |  None | 661.722717782 |\n",
      "| bedrooms_square  |  None |      0.0      |\n",
      "|    bathrooms     |  None | 15873.9572593 |\n",
      "|   sqft_living    |  None | 32.4102214513 |\n",
      "| sqft_living_sqrt |  None | 690.114773313 |\n",
      "|     sqft_lot     |  None |      0.0      |\n",
      "|  sqft_lot_sqrt   |  None |      0.0      |\n",
      "|      floors      |  None |      0.0      |\n",
      "|  floors_square   |  None |      0.0      |\n",
      "|    waterfront    |  None |      0.0      |\n",
      "|       view       |  None |      0.0      |\n",
      "|    condition     |  None |      0.0      |\n",
      "|      grade       |  None | 2899.42026975 |\n",
      "|    sqft_above    |  None | 30.0115753022 |\n",
      "|  sqft_basement   |  None |      0.0      |\n",
      "|     yr_built     |  None |      0.0      |\n",
      "|   yr_renovated   |  None |      0.0      |\n",
      "+------------------+-------+---------------+\n",
      "[18 rows x 3 columns]\n",
      "\n"
     ]
    }
   ],
   "source": [
    "l1 = 3448968611\n",
    "model = graphlab.linear_regression.create(training, target='price', features=all_features,\n",
    "                                                  validation_set=None, verbose = False,\n",
    "                                                  l2_penalty=0., l1_penalty=l1)\n",
    "\n",
    "rss = 1046937488751711 \n",
    "model['coefficients'].print_rows(num_rows=19)\n"
   ]
  },
  {
   "cell_type": "code",
   "execution_count": null,
   "metadata": {
    "collapsed": true
   },
   "outputs": [],
   "source": [
    "[bedrooms , bathrooms  , ]"
   ]
  }
 ],
 "metadata": {
  "kernelspec": {
   "display_name": "Python 2",
   "language": "python",
   "name": "python2"
  },
  "language_info": {
   "codemirror_mode": {
    "name": "ipython",
    "version": 2
   },
   "file_extension": ".py",
   "mimetype": "text/x-python",
   "name": "python",
   "nbconvert_exporter": "python",
   "pygments_lexer": "ipython2",
   "version": "2.7.10"
  }
 },
 "nbformat": 4,
 "nbformat_minor": 0
}
